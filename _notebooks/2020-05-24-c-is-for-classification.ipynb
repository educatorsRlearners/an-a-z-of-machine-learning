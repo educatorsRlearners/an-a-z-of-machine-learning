{
 "cells": [
  {
   "cell_type": "markdown",
   "metadata": {},
   "source": [
    "# C is for Classification\n",
    "> What is a classification problem and how do we solve it?\n",
    "\n",
    "- toc: true \n",
    "- badges: true\n",
    "- comments: true\n",
    "- categories: [resources]\n",
    "- sticky_rank: 3\n",
    "- hide: true"
   ]
  },
  {
   "cell_type": "markdown",
   "metadata": {},
   "source": [
    "# *What is **classification**?* \n",
    "**Classification** is one of two types of [supervised machine learning tasks](https://machinelearningmastery.com/supervised-and-unsupervised-machine-learning-algorithms/) with the other being **regression**.   \n",
    "\n",
    "Key point to remember: supervised learning tasks use features to predict targets, or, in non-tech speak, they use attributes to predict something. For instance, we can take a basketball players height, weight, age, foot-speed and/or multiple other aspects their them to predict how many points they'll score or whether they will be an all-star.  \n",
    "\n",
    "# *So what's the difference between the two?* \n",
    "- Regression tasks predict a *continuous* value\n",
    " - For example, how many points someone will score.\n",
    "- Classification tasks predict a *non-continuous* value.\n",
    " - For example, whether a player will be an all-star. \n",
    " \n",
    "# *How do I know which technique to use?*\n",
    "\n",
    "Answer the following question: ***\"Does my target variable have an order to it?\"***  \n",
    "\n",
    "For example, [my project predicting the recommended age of a reader](https://github.com/educatorsRlearners/book-maturity) was a *regression* task because I was predicting a precise **age** (i.e., 4 years old). If I was attempting to identify whether a book was suitable for teens or not, then it would have been a *classification* task since the answer would have been either **yes** or **no**. \n",
    "\n",
    "# *OK, so classification is only for yes/no, true/false, cat/dog problems, right?*\n",
    "Nope, those are just the easy examples :smiley:\n",
    "\n",
    "Imagine a scenario where you get a new batch of students every year and you have to sort them into houses based on their personality characteristics. \n",
    "\n",
    "![](https://i.insider.com/5b69ffdc7708e97dce12be09?width=1100&format=jpeg&auto=webp \"Sound familiar?\")"
   ]
  },
  {
   "cell_type": "code",
   "execution_count": 1,
   "metadata": {},
   "outputs": [],
   "source": [
    "#hide \n",
    "import pandas as pd\n",
    "import numpy as np\n",
    "import sklearn"
   ]
  },
  {
   "cell_type": "markdown",
   "metadata": {},
   "source": [
    "## Further Reading\n",
    "\n",
    "[Regression Versus Classification Machine Learning: What’s the Difference?](https://medium.com/quick-code/regression-versus-classification-machine-learning-whats-the-difference-345c56dd15f7)"
   ]
  },
  {
   "cell_type": "code",
   "execution_count": null,
   "metadata": {},
   "outputs": [],
   "source": []
  }
 ],
 "metadata": {
  "kernelspec": {
   "display_name": "Python 3",
   "language": "python",
   "name": "python3"
  },
  "language_info": {
   "codemirror_mode": {
    "name": "ipython",
    "version": 3
   },
   "file_extension": ".py",
   "mimetype": "text/x-python",
   "name": "python",
   "nbconvert_exporter": "python",
   "pygments_lexer": "ipython3",
   "version": "3.7.4"
  },
  "varInspector": {
   "cols": {
    "lenName": 16,
    "lenType": 16,
    "lenVar": 40
   },
   "kernels_config": {
    "python": {
     "delete_cmd_postfix": "",
     "delete_cmd_prefix": "del ",
     "library": "var_list.py",
     "varRefreshCmd": "print(var_dic_list())"
    },
    "r": {
     "delete_cmd_postfix": ") ",
     "delete_cmd_prefix": "rm(",
     "library": "var_list.r",
     "varRefreshCmd": "cat(var_dic_list()) "
    }
   },
   "types_to_exclude": [
    "module",
    "function",
    "builtin_function_or_method",
    "instance",
    "_Feature"
   ],
   "window_display": false
  }
 },
 "nbformat": 4,
 "nbformat_minor": 4
}
