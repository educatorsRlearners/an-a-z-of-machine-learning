{
 "cells": [
  {
   "cell_type": "markdown",
   "metadata": {},
   "source": [
    "# C is for Classification\n",
    "> What is classification and why is it used?\n",
    "\n",
    "- toc: false \n",
    "- badges: false\n",
    "- comments: true\n",
    "- categories: [C]\n",
    "- hide: false\n",
    "- image: images/c-is-for-classification/crowd-reflection-color-toy-1679618.jpg"
   ]
  },
  {
   "cell_type": "markdown",
   "metadata": {},
   "source": [
    "## *What is **classification**?* \n",
    "**Classification** is one of two types of [supervised machine learning tasks](https://machinelearningmastery.com/supervised-and-unsupervised-machine-learning-algorithms/) with the other being **regression**.   \n",
    "\n",
    "Key point to remember: supervised learning tasks use features to predict targets, or, in non-tech speak, they use attributes to predict something. For instance, we can take a basketball players height, weight, age, foot-speed and/or multiple other aspects their them to predict how many points they'll score or whether they will be an all-star.  \n",
    "\n",
    "## *So what's the difference between the two?* \n",
    "- Regression tasks predict a *continuous* value\n",
    " - For example, how many points someone will score.\n",
    "- Classification tasks predict a *non-continuous* value.\n",
    " - For example, whether a player will be an all-star. \n",
    " \n",
    "## *How do I know which technique to use?*\n",
    "\n",
    "Answer the following question: ***\"Does my target variable have an order to it?\"***  \n",
    "\n",
    "For example, [my project predicting the recommended age of a reader](https://github.com/educatorsRlearners/book-maturity) was a *regression* task because I was predicting a precise **age** (i.e., 4 years old). If I was attempting to identify whether a book was suitable for teens or not, then it would have been a *classification* task since the answer would have been either **yes** or **no**. \n",
    "\n",
    "## *OK, so classification is only for yes/no, true/false, cat/dog problems, right?*\n",
    "Nope, those are just the easy examples :smiley:\n",
    "\n",
    "### Example 1: Sorting People into Groups\n",
    "\n",
    "Imagine a scenario where you get a new batch of students every year and have to sort them into houses based on their personality characteristics. \n",
    "\n",
    "![](https://i.insider.com/5b69ffdc7708e97dce12be09?width=1100&format=jpeg&auto=webp \"Look familiar?\")\n",
    "\n",
    "In this situation, the houses do not have any type of sequence/ranking to them. Sure, Harry definitely didn't want to be housed in Slytherin, and the sorting hat clearly took that into consideration, but that doesn't mean Slytherin is closer to Gryffindor like 25 is closer to 30 than it is to 19. \n",
    "\n",
    "\n",
    "### Example 2: Applying Labels\n",
    "\n",
    "Similarly, if we had a data set containing the ingredients of dishes and attempted to predict the country of origin, we'd be solving a classification problem. Why? Because country names have no numerical order. We can say that Russia is the largest country on Earth or that China has the most people but those are attributes of the country (i.e., land size and population) which are not intrinsic to the name of the country. \n",
    "\n",
    "## Got it! Numbers are regression, words are classification\n",
    "\n",
    "Sorry but no. \n",
    "\n",
    "Think back to the [book recommendation project](https://github.com/educatorsRlearners/book-maturity) I mentioned earlier. Answer this: if I wanted to predict whether a book was for:  \n",
    "\n",
    "- small children (2-5 years old)\n",
    "- primary children (6 - 10) \n",
    "- tweens (11 -12)\n",
    "- young adults (13 - 17) \n",
    "- adults (18 +)\n",
    "\n",
    "what would you use: regression or classification?\n",
    "\n",
    "Well, given that the labels have a clear **order**, you'd definitely want to treat this as a regression problem by coding 'small children' as '1' and 'adults' as '5'{% fn 1 %}. \n",
    "\n",
    "## In Sum\n",
    "\n",
    "Always start by asking 'What am I attempting to predict?' Once that question is solved the rest becomes far simpler because as [Jung](https://books.google.de/books?id=OL6Rmy5U81cC&pg=PA1&lpg=PA1&dq=to+ask+the+right+question+is+already+half+the+solution+of+a+problem&source=bl&ots=ngM7d2WgTl&sig=ACfU3U3MFld95_j55bLtaW0A3jnvIKAEvQ&hl=en&sa=X&ved=2ahUKEwjUz7jIgdDpAhXPsaQKHRL9CDsQ6AEwBHoECAoQAQ#v=onepage&q=to%20ask%20the%20right%20question%20is%20already%20half%20the%20solution%20of%20a%20problem&f=false) said, \"To ask the right question, is already half the problem solved.\" \n",
    "\n",
    "\n",
    "\n"
   ]
  },
  {
   "cell_type": "markdown",
   "metadata": {},
   "source": [
    "## Further Reading\n",
    "[Difference Between Classification and Regression in Machine Learning](https://machinelearningmastery.com/classification-versus-regression-in-machine-learning/)  \n",
    "[Regression Versus Classification Machine Learning: What’s the Difference?](https://medium.com/quick-code/regression-versus-classification-machine-learning-whats-the-difference-345c56dd15f7)  \n",
    "\n",
    "### Footnotes\n",
    "{{ 'In `R` this type of variable is called an [ordered factor](https://www.stat.berkeley.edu/~s133/factors.html)' | fndetail: 1 }}\n"
   ]
  }
 ],
 "metadata": {
  "kernelspec": {
   "display_name": "Python 3",
   "language": "python",
   "name": "python3"
  },
  "language_info": {
   "codemirror_mode": {
    "name": "ipython",
    "version": 3
   },
   "file_extension": ".py",
   "mimetype": "text/x-python",
   "name": "python",
   "nbconvert_exporter": "python",
   "pygments_lexer": "ipython3",
   "version": "3.6.10"
  },
  "varInspector": {
   "cols": {
    "lenName": 16,
    "lenType": 16,
    "lenVar": 40
   },
   "kernels_config": {
    "python": {
     "delete_cmd_postfix": "",
     "delete_cmd_prefix": "del ",
     "library": "var_list.py",
     "varRefreshCmd": "print(var_dic_list())"
    },
    "r": {
     "delete_cmd_postfix": ") ",
     "delete_cmd_prefix": "rm(",
     "library": "var_list.r",
     "varRefreshCmd": "cat(var_dic_list()) "
    }
   },
   "types_to_exclude": [
    "module",
    "function",
    "builtin_function_or_method",
    "instance",
    "_Feature"
   ],
   "window_display": false
  }
 },
 "nbformat": 4,
 "nbformat_minor": 4
}
