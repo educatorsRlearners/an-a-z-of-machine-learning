{
 "cells": [
  {
   "cell_type": "markdown",
   "metadata": {},
   "source": [
    "# B is for Books\n",
    "> A brief list of books which I've found useful over the years.\n",
    "\n",
    "- toc: true \n",
    "- badges: false\n",
    "- comments: true\n",
    "- categories: [resources]\n",
    "- sticky_rank: 2\n",
    "- hide: false"
   ]
  },
  {
   "cell_type": "markdown",
   "metadata": {},
   "source": [
    "While this is not exhaustive list of the books I've read, it is what I consider my essential reading. Enjoy! \n",
    "\n",
    "# Statistics\n",
    "### [The Cartoon Guide to Statistics](http://www.larrygonick.com/titles/science/the-cartoon-guide-to-statistics/)\n",
    "![](../images/books/resized006.png)  \n",
    "This is an engaging reference book which explains key concepts like descriptives statistics, distributions, probability, hypothesis testing.\n",
    "\n",
    "### [The Manga Guide to Statistics](https://nostarch.com/sites/default/files/styles/uc_product_full/public/mg_statistics_big.png?itok=A7DJQynq)\n",
    "![](../images/books/resized003.png)  \n",
    "Similar to the title above, but this book has a plot that runs through it so, if like me, you find analogies easier to remember than formulas, this is a great book for you.\n",
    "\n",
    "\n",
    "# Data Science \n",
    "\n",
    "## R\n",
    "\n",
    "### [R for Data Science](https://r4ds.had.co.nz/)  \n",
    "![](../images/books/resized005.png)  \n",
    "After completing several [DataCamp](https://www.datacamp.com/profile/pevansimpson) courses, I started using R to analyze [test-taker data](https://educators-r-learners.netlify.app/post/coloring-under-the-lines-in-ggplot/) and this book was my go to reference for the [tidyverse](https://www.tidyverse.org/).\n",
    "\n",
    "### [Geocomputation in R](https://geocompr.robinlovelace.net/)\n",
    "![](../images/books/resized001.png)  \n",
    "My last position required my team and I to travel throughout East Asia to deliver workshops, presentations, and provide client support and I used this book to teach myself how to make maps to visualize our reach and impact. \n",
    "\n",
    "### [Blogdown: Creating Websites with R Markdown](https://bookdown.org/yihui/blogdown/)  \n",
    "![](../images/books/resized000.png)  \n",
    "I would not have been able to create my previous blog without this book. It is indispensable if you want to create a blog with RStudio. \n",
    "\n",
    "## Python\n",
    "\n",
    "### [A Whirlwind Tour of Python](https://jakevdp.github.io/WhirlwindTourOfPython/)\n",
    "![](../images/books/resized009.png)  \n",
    "Need to get the gist of Python in a hurry? This is your book. \n",
    "\n",
    "### [Hands-On Machine Learning with Scikit-Learn and TensorFlow](https://www.oreilly.com/library/view/hands-on-machine-learning/9781491962282/) \n",
    "![](../images/books/resized002.png)  \n",
    "Chapter 2 End-to-End Machine Learning Project along with Appendix B: Machine Learning Project Checklist are worth the price of the book alone. \n",
    "\n",
    "### [Python for Data Analysis](http://shop.oreilly.com/product/0636920023784.do)\n",
    "![](../images/books/resized004.png)  \n",
    "The real name of this book should be *Pandas from A-Z*. Seriously, work through the examples in Chapter 14 and you will feel infinitely more confident to use ```pandas``` in the future.  \n",
    "\n",
    "## Concepts\n",
    "\n",
    "### [Storytelling with Data](http://www.storytellingwithdata.com/books)\n",
    "![](../images/books/resized007.png)  \n",
    "If \"a picture is worth a thousand words,\" we should make sure it's conveying our intended message. This book you make your visuals convey precise meaning at a glance instead of serving as a distraction or being redundant. \n",
    "\n",
    "### [Weapons of Math Destruction](https://bookshop.org/books/weapons-of-math-destruction-how-big-data-increases-inequality-and-threatens-democracy/9780553418835)\n",
    "![](../images/books/resized008.png)  \n",
    "It's good to be reminded that models are never neutral. \n",
    "\n",
    "### [An Illustrated Book of Bad Arguments](https://bookshop.org/books/an-illustrated-book-of-bad-arguments-9781615192250/9781615192250)\n",
    "![](../images/books/resized010.png)  \n",
    "Usually, people don't want to think or act in a biased nature. However, if you're not aware that that a bias/fallacy exists, can you actively avoid it? Therefore, step one of avoiding cognitive biases is to know they exist meaning read this book! "
   ]
  }
 ],
 "metadata": {
  "kernelspec": {
   "display_name": "Python 3",
   "language": "python",
   "name": "python3"
  },
  "language_info": {
   "codemirror_mode": {
    "name": "ipython",
    "version": 3
   },
   "file_extension": ".py",
   "mimetype": "text/x-python",
   "name": "python",
   "nbconvert_exporter": "python",
   "pygments_lexer": "ipython3",
   "version": "3.7.4"
  },
  "varInspector": {
   "cols": {
    "lenName": 16,
    "lenType": 16,
    "lenVar": 40
   },
   "kernels_config": {
    "python": {
     "delete_cmd_postfix": "",
     "delete_cmd_prefix": "del ",
     "library": "var_list.py",
     "varRefreshCmd": "print(var_dic_list())"
    },
    "r": {
     "delete_cmd_postfix": ") ",
     "delete_cmd_prefix": "rm(",
     "library": "var_list.r",
     "varRefreshCmd": "cat(var_dic_list()) "
    }
   },
   "types_to_exclude": [
    "module",
    "function",
    "builtin_function_or_method",
    "instance",
    "_Feature"
   ],
   "window_display": false
  }
 },
 "nbformat": 4,
 "nbformat_minor": 4
}
