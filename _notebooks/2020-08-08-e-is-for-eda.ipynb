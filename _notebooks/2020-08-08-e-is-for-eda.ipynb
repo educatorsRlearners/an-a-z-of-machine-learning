{
 "cells": [
  {
   "cell_type": "markdown",
   "metadata": {},
   "source": [
    "# \"E is for Exploratory Data Analysis: Images\"\n",
    "> What is Exploratory Data Analysis (EDA), why is it done, and how do we do it in Python?\n",
    "\n",
    "- toc: false \n",
    "- badges: True\n",
    "- comments: true\n",
    "- categories: [draft]\n",
    "- hide: True\n",
    "- image: images/images/e-is-for-eda-images/pexels-ready-made-3847646.jpg"
   ]
  },
  {
   "cell_type": "markdown",
   "metadata": {},
   "source": [
    "While my previous posts outlined some methods for conducting [EDA for numeric data](https://educatorsrlearners.github.io/an-a-z-of-machine-learning/e/2020/06/15/e-is-for-eda.html) as well as [categorical data](https://educatorsrlearners.github.io/an-a-z-of-machine-learning/e/2020/07/06/e-is-for-eda.html), this post focuses on EDA for images. \n",
    "\n",
    "## _What is **Exploratory Data Analysis (EDA)**?_\n",
    "Again, since [all learning is repetition](https://papers.ssrn.com/sol3/papers.cfm?abstract_id=224340), EDA is a process by which we 'get to know' our data by conducting basic descriptive statistics and visualizations.\n",
    "\n",
    "## _Why is it done for images?_\n",
    "We need to know:\n",
    "- how many images we have\n",
    "- if we're doing supervised learning, if they labeled appropriately\n",
    "- their format (i.e. size and color)\n",
    "\n",
    "\n",
    "## _How do we do it in Python?_\n",
    "As always, I'll follow the steps outlined in [_Hands-on Machine Learning with Scikit-Learn, Keras & TensorFlow_](https://github.com/ageron/handson-ml/blob/master/ml-project-checklist.md)\n",
    "\n",
    "### Step 1: Frame the Problem\n",
    "\"Is it possible to determine the minimum age a reader should be for a given book based solely on the cover?\"\n",
    "\n",
    "### Step 2: Get the Data\n",
    "As mentioned in my previous [posts](https://educatorsrlearners.github.io/an-a-z-of-machine-learning/e/2020/06/15/e-is-for-eda.html), I sourced labeled training data from [Common Sense Media's Book Reviews](https://www.commonsensemedia.org/book-reviews) by [scraping and saving](https://github.com/educatorsRlearners/book-maturity/blob/master/00_get_search_pages.ipynb) the target pages using `BeautifulSoup` \n",
    "\n",
    "![](../images/e-is-for-eda/csm2.png \"Credit: https://www.commonsensemedia.org/book-reviews\")  \n",
    "\n",
    "and then extracted and [saved](https://github.com/educatorsRlearners/book-maturity/blob/master/15_get_covers.ipynb) the book covers into a separate folder.\n",
    "\n",
    "In the end, I was able to use over 5000 covers for training and testing purposes, but today we'll only work with a sample of the covers which can be downloaded from [here](https://github.com/educatorsRlearners/an-a-z-of-machine-learning/tree/master/data/covers). \n",
    "\n",
    "### Step 3: Explore the Data to Gain Insights (i.e. EDA)\n",
    "As always, import the essential libraries, then load the data. "
   ]
  },
  {
   "cell_type": "code",
   "execution_count": 1,
   "metadata": {},
   "outputs": [],
   "source": [
    "#hide\n",
    "import warnings; warnings.simplefilter('ignore')"
   ]
  },
  {
   "cell_type": "code",
   "execution_count": 2,
   "metadata": {},
   "outputs": [],
   "source": [
    "import pandas as pd\n",
    "import numpy as np\n",
    "import os\n",
    "import cv2\n",
    "from PIL import Image\n",
    "import ipyplot"
   ]
  },
  {
   "cell_type": "markdown",
   "metadata": {},
   "source": [
    "#### How large is our sample?"
   ]
  },
  {
   "cell_type": "code",
   "execution_count": 3,
   "metadata": {},
   "outputs": [
    {
     "name": "stdout",
     "output_type": "stream",
     "text": [
      "Number of image files: 561\n"
     ]
    }
   ],
   "source": [
    "IMAGES_PATH = \"data/covers/\"\n",
    "image_files = list(os.listdir(IMAGES_PATH))\n",
    "full_file_paths = [IMAGES_PATH+image for image in image_files] \n",
    "print(\"Number of image files: {}\".format(len(image_files)))"
   ]
  },
  {
   "cell_type": "markdown",
   "metadata": {},
   "source": [
    "#### What does our target look like? \n",
    "\n",
    "To answer that question, we can create a data frame of the book titles and the target ages in our sample, and then plot the target. \n",
    "\n",
    "Since I scraped the data, I know the beginning of the file name is the target age, (i.e., 13 is the minimum age for the file '13_dance-of-thieves-book-1.jpg') so we can create a:\n",
    "1. data frame of the file names\n",
    "2. target column called `age` by splitting the file name on the underscore and extracting the first element "
   ]
  },
  {
   "cell_type": "code",
   "execution_count": 4,
   "metadata": {},
   "outputs": [
    {
     "data": {
      "text/html": [
       "<div>\n",
       "<style scoped>\n",
       "    .dataframe tbody tr th:only-of-type {\n",
       "        vertical-align: middle;\n",
       "    }\n",
       "\n",
       "    .dataframe tbody tr th {\n",
       "        vertical-align: top;\n",
       "    }\n",
       "\n",
       "    .dataframe thead th {\n",
       "        text-align: right;\n",
       "    }\n",
       "</style>\n",
       "<table border=\"1\" class=\"dataframe\">\n",
       "  <thead>\n",
       "    <tr style=\"text-align: right;\">\n",
       "      <th></th>\n",
       "      <th>files</th>\n",
       "      <th>full_path</th>\n",
       "      <th>age</th>\n",
       "    </tr>\n",
       "  </thead>\n",
       "  <tbody>\n",
       "    <tr>\n",
       "      <th>0</th>\n",
       "      <td>13_dance-of-thieves-book-1.jpg</td>\n",
       "      <td>data/covers/13_dance-of-thieves-book-1.jpg</td>\n",
       "      <td>13</td>\n",
       "    </tr>\n",
       "    <tr>\n",
       "      <th>1</th>\n",
       "      <td>11_ways-to-live-forever.jpg</td>\n",
       "      <td>data/covers/11_ways-to-live-forever.jpg</td>\n",
       "      <td>11</td>\n",
       "    </tr>\n",
       "    <tr>\n",
       "      <th>2</th>\n",
       "      <td>13_this-time-will-be-different.jpg</td>\n",
       "      <td>data/covers/13_this-time-will-be-different.jpg</td>\n",
       "      <td>13</td>\n",
       "    </tr>\n",
       "    <tr>\n",
       "      <th>3</th>\n",
       "      <td>10_the-care-and-keeping-of-you-2-the-body-book...</td>\n",
       "      <td>data/covers/10_the-care-and-keeping-of-you-2-t...</td>\n",
       "      <td>10</td>\n",
       "    </tr>\n",
       "    <tr>\n",
       "      <th>4</th>\n",
       "      <td>8_moonpenny-island.jpg</td>\n",
       "      <td>data/covers/8_moonpenny-island.jpg</td>\n",
       "      <td>8</td>\n",
       "    </tr>\n",
       "  </tbody>\n",
       "</table>\n",
       "</div>"
      ],
      "text/plain": [
       "                                               files  \\\n",
       "0                     13_dance-of-thieves-book-1.jpg   \n",
       "1                        11_ways-to-live-forever.jpg   \n",
       "2                 13_this-time-will-be-different.jpg   \n",
       "3  10_the-care-and-keeping-of-you-2-the-body-book...   \n",
       "4                             8_moonpenny-island.jpg   \n",
       "\n",
       "                                           full_path  age  \n",
       "0         data/covers/13_dance-of-thieves-book-1.jpg   13  \n",
       "1            data/covers/11_ways-to-live-forever.jpg   11  \n",
       "2     data/covers/13_this-time-will-be-different.jpg   13  \n",
       "3  data/covers/10_the-care-and-keeping-of-you-2-t...   10  \n",
       "4                 data/covers/8_moonpenny-island.jpg    8  "
      ]
     },
     "execution_count": 4,
     "metadata": {},
     "output_type": "execute_result"
    }
   ],
   "source": [
    "data = {'files':image_files, 'full_path':full_file_paths}\n",
    "df = pd.DataFrame(data=data)\n",
    "df['age'] = df['files'].str.split(\"_\").str[0].astype('int')\n",
    "df.head()"
   ]
  },
  {
   "cell_type": "markdown",
   "metadata": {},
   "source": [
    "Now we can plot the `age` feature. "
   ]
  },
  {
   "cell_type": "code",
   "execution_count": 5,
   "metadata": {},
   "outputs": [
    {
     "data": {
      "image/png": "[encoded data removed]",
      "text/plain": [
       "<Figure size 1728x720 with 1 Axes>"
      ]
     },
     "metadata": {
      "needs_background": "light"
     },
     "output_type": "display_data"
    }
   ],
   "source": [
    "df['age'].plot(kind= \"hist\", \n",
    "               bins=range(2,18),\n",
    "               figsize=(24,10),\n",
    "               xticks=range(2,18),\n",
    "               fontsize=16);"
   ]
  },
  {
   "cell_type": "markdown",
   "metadata": {},
   "source": [
    "Thankfully, the plot above has a nearly identical distribution to the entire sample (see this [post](https://educatorsrlearners.github.io/an-a-z-of-machine-learning/e/2020/06/15/e-is-for-eda.html)) so all is good and we can continue. "
   ]
  },
  {
   "cell_type": "markdown",
   "metadata": {},
   "source": [
    "#### What do our covers look like? "
   ]
  },
  {
   "cell_type": "markdown",
   "metadata": {},
   "source": []
  },
  {
   "cell_type": "code",
   "execution_count": 11,
   "metadata": {},
   "outputs": [
    {
     "data": {
      "text/html": [
       "<div style=\"display: inline-block; width: 170px; vertical-align: top; text-align: center;\"><h4 style=\"font-size: 12px\">2</h4><h4 style=\"font-size: 9px; padding-left: 10px; padding-right: 10px; width: 90%; word-wrap: break-word; white-space: normal;\">data/covers/2_ten-little-caterpillars.jpg</h4><img src=\"data/covers/2_ten-little-caterpillars.jpg\" style=\"margin: 1px; width: 150px; border: 2px solid #ddd;\"/></div><div style=\"display: inline-block; width: 170px; vertical-align: top; text-align: center;\"><h4 style=\"font-size: 12px\">3</h4><h4 style=\"font-size: 9px; padding-left: 10px; padding-right: 10px; width: 90%; word-wrap: break-word; white-space: normal;\">data/covers/3_bully.jpg</h4><img src=\"data/covers/3_bully.jpg\" style=\"margin: 1px; width: 150px; border: 2px solid #ddd;\"/></div><div style=\"display: inline-block; width: 170px; vertical-align: top; text-align: center;\"><h4 style=\"font-size: 12px\">4</h4><h4 style=\"font-size: 9px; padding-left: 10px; padding-right: 10px; width: 90%; word-wrap: break-word; white-space: normal;\">data/covers/4_thomas-big-storybook.jpg</h4><img src=\"data/covers/4_thomas-big-storybook.jpg\" style=\"margin: 1px; width: 150px; border: 2px solid #ddd;\"/></div><div style=\"display: inline-block; width: 170px; vertical-align: top; text-align: center;\"><h4 style=\"font-size: 12px\">5</h4><h4 style=\"font-size: 9px; padding-left: 10px; padding-right: 10px; width: 90%; word-wrap: break-word; white-space: normal;\">data/covers/5_yukon-sled-dog.png</h4><img src=\"data/covers/5_yukon-sled-dog.png\" style=\"margin: 1px; width: 150px; border: 2px solid #ddd;\"/></div><div style=\"display: inline-block; width: 170px; vertical-align: top; text-align: center;\"><h4 style=\"font-size: 12px\">6</h4><h4 style=\"font-size: 9px; padding-left: 10px; padding-right: 10px; width: 90%; word-wrap: break-word; white-space: normal;\">data/covers/6_all-in-a-day-0.jpg</h4><img src=\"data/covers/6_all-in-a-day-0.jpg\" style=\"margin: 1px; width: 150px; border: 2px solid #ddd;\"/></div><div style=\"display: inline-block; width: 170px; vertical-align: top; text-align: center;\"><h4 style=\"font-size: 12px\">7</h4><h4 style=\"font-size: 9px; padding-left: 10px; padding-right: 10px; width: 90%; word-wrap: break-word; white-space: normal;\">data/covers/7_enigma-a-magical-mystery.jpg</h4><img src=\"data/covers/7_enigma-a-magical-mystery.jpg\" style=\"margin: 1px; width: 150px; border: 2px solid #ddd;\"/></div><div style=\"display: inline-block; width: 170px; vertical-align: top; text-align: center;\"><h4 style=\"font-size: 12px\">8</h4><h4 style=\"font-size: 9px; padding-left: 10px; padding-right: 10px; width: 90%; word-wrap: break-word; white-space: normal;\">data/covers/8_moonpenny-island.jpg</h4><img src=\"data/covers/8_moonpenny-island.jpg\" style=\"margin: 1px; width: 150px; border: 2px solid #ddd;\"/></div><div style=\"display: inline-block; width: 170px; vertical-align: top; text-align: center;\"><h4 style=\"font-size: 12px\">9</h4><h4 style=\"font-size: 9px; padding-left: 10px; padding-right: 10px; width: 90%; word-wrap: break-word; white-space: normal;\">data/covers/9_the-wide-window-a-series-of-unfortunate-events-book-3.jpg</h4><img src=\"data/covers/9_the-wide-window-a-series-of-unfortunate-events-book-3.jpg\" style=\"margin: 1px; width: 150px; border: 2px solid #ddd;\"/></div><div style=\"display: inline-block; width: 170px; vertical-align: top; text-align: center;\"><h4 style=\"font-size: 12px\">10</h4><h4 style=\"font-size: 9px; padding-left: 10px; padding-right: 10px; width: 90%; word-wrap: break-word; white-space: normal;\">data/covers/10_the-care-and-keeping-of-you-2-the-body-book-for-older-girls.jpg</h4><img src=\"data/covers/10_the-care-and-keeping-of-you-2-the-body-book-for-older-girls.jpg\" style=\"margin: 1px; width: 150px; border: 2px solid #ddd;\"/></div><div style=\"display: inline-block; width: 170px; vertical-align: top; text-align: center;\"><h4 style=\"font-size: 12px\">11</h4><h4 style=\"font-size: 9px; padding-left: 10px; padding-right: 10px; width: 90%; word-wrap: break-word; white-space: normal;\">data/covers/11_ways-to-live-forever.jpg</h4><img src=\"data/covers/11_ways-to-live-forever.jpg\" style=\"margin: 1px; width: 150px; border: 2px solid #ddd;\"/></div><div style=\"display: inline-block; width: 170px; vertical-align: top; text-align: center;\"><h4 style=\"font-size: 12px\">12</h4><h4 style=\"font-size: 9px; padding-left: 10px; padding-right: 10px; width: 90%; word-wrap: break-word; white-space: normal;\">data/covers/12_gilded.jpg</h4><img src=\"data/covers/12_gilded.jpg\" style=\"margin: 1px; width: 150px; border: 2px solid #ddd;\"/></div><div style=\"display: inline-block; width: 170px; vertical-align: top; text-align: center;\"><h4 style=\"font-size: 12px\">13</h4><h4 style=\"font-size: 9px; padding-left: 10px; padding-right: 10px; width: 90%; word-wrap: break-word; white-space: normal;\">data/covers/13_dance-of-thieves-book-1.jpg</h4><img src=\"data/covers/13_dance-of-thieves-book-1.jpg\" style=\"margin: 1px; width: 150px; border: 2px solid #ddd;\"/></div><div style=\"display: inline-block; width: 170px; vertical-align: top; text-align: center;\"><h4 style=\"font-size: 12px\">14</h4><h4 style=\"font-size: 9px; padding-left: 10px; padding-right: 10px; width: 90%; word-wrap: break-word; white-space: normal;\">data/covers/14_the-madmans-daughter.jpg</h4><img src=\"data/covers/14_the-madmans-daughter.jpg\" style=\"margin: 1px; width: 150px; border: 2px solid #ddd;\"/></div><div style=\"display: inline-block; width: 170px; vertical-align: top; text-align: center;\"><h4 style=\"font-size: 12px\">15</h4><h4 style=\"font-size: 9px; padding-left: 10px; padding-right: 10px; width: 90%; word-wrap: break-word; white-space: normal;\">data/covers/15_a-sense-of-the-infinite.jpg</h4><img src=\"data/covers/15_a-sense-of-the-infinite.jpg\" style=\"margin: 1px; width: 150px; border: 2px solid #ddd;\"/></div><div style=\"display: inline-block; width: 170px; vertical-align: top; text-align: center;\"><h4 style=\"font-size: 12px\">16</h4><h4 style=\"font-size: 9px; padding-left: 10px; padding-right: 10px; width: 90%; word-wrap: break-word; white-space: normal;\">data/covers/16_the-round-house.jpg</h4><img src=\"data/covers/16_the-round-house.jpg\" style=\"margin: 1px; width: 150px; border: 2px solid #ddd;\"/></div><div style=\"display: inline-block; width: 170px; vertical-align: top; text-align: center;\"><h4 style=\"font-size: 12px\">17</h4><h4 style=\"font-size: 9px; padding-left: 10px; padding-right: 10px; width: 90%; word-wrap: break-word; white-space: normal;\">data/covers/17_pretty-dead.jpg</h4><img src=\"data/covers/17_pretty-dead.jpg\" style=\"margin: 1px; width: 150px; border: 2px solid #ddd;\"/></div>"
      ],
      "text/plain": [
       "<IPython.core.display.HTML object>"
      ]
     },
     "metadata": {},
     "output_type": "display_data"
    }
   ],
   "source": [
    "images = df['full_path'].to_numpy()\n",
    "labels_int = df['age'].to_numpy()\n",
    "ipyplot.plot_class_representations(images=images, labels=labels_int)"
   ]
  },
  {
   "cell_type": "code",
   "execution_count": 10,
   "metadata": {},
   "outputs": [],
   "source": [
    "width = []\n",
    "height = []\n",
    "channels = []\n",
    "for image in image_files: \n",
    "    img = cv2.imread(IMAGES_PATH+image)\n",
    "    img = img.shape\n",
    "    height.append(img[0])\n",
    "    width.append(img[1])\n",
    "    channels.append(img[2])"
   ]
  },
  {
   "cell_type": "code",
   "execution_count": 13,
   "metadata": {},
   "outputs": [],
   "source": [
    "df['width'] = width\n",
    "df['height'] = height\n",
    "df['channels'] = channels"
   ]
  },
  {
   "cell_type": "code",
   "execution_count": 14,
   "metadata": {},
   "outputs": [
    {
     "data": {
      "text/html": [
       "<div>\n",
       "<style scoped>\n",
       "    .dataframe tbody tr th:only-of-type {\n",
       "        vertical-align: middle;\n",
       "    }\n",
       "\n",
       "    .dataframe tbody tr th {\n",
       "        vertical-align: top;\n",
       "    }\n",
       "\n",
       "    .dataframe thead th {\n",
       "        text-align: right;\n",
       "    }\n",
       "</style>\n",
       "<table border=\"1\" class=\"dataframe\">\n",
       "  <thead>\n",
       "    <tr style=\"text-align: right;\">\n",
       "      <th></th>\n",
       "      <th>files</th>\n",
       "      <th>age</th>\n",
       "      <th>width</th>\n",
       "      <th>height</th>\n",
       "      <th>channels</th>\n",
       "    </tr>\n",
       "  </thead>\n",
       "  <tbody>\n",
       "    <tr>\n",
       "      <th>0</th>\n",
       "      <td>13_dance-of-thieves-book-1.jpg</td>\n",
       "      <td>13</td>\n",
       "      <td>170</td>\n",
       "      <td>255</td>\n",
       "      <td>3</td>\n",
       "    </tr>\n",
       "    <tr>\n",
       "      <th>1</th>\n",
       "      <td>11_ways-to-live-forever.jpg</td>\n",
       "      <td>11</td>\n",
       "      <td>170</td>\n",
       "      <td>255</td>\n",
       "      <td>3</td>\n",
       "    </tr>\n",
       "    <tr>\n",
       "      <th>2</th>\n",
       "      <td>13_this-time-will-be-different.jpg</td>\n",
       "      <td>13</td>\n",
       "      <td>170</td>\n",
       "      <td>255</td>\n",
       "      <td>3</td>\n",
       "    </tr>\n",
       "    <tr>\n",
       "      <th>3</th>\n",
       "      <td>10_the-care-and-keeping-of-you-2-the-body-book...</td>\n",
       "      <td>10</td>\n",
       "      <td>170</td>\n",
       "      <td>255</td>\n",
       "      <td>3</td>\n",
       "    </tr>\n",
       "    <tr>\n",
       "      <th>4</th>\n",
       "      <td>8_moonpenny-island.jpg</td>\n",
       "      <td>8</td>\n",
       "      <td>170</td>\n",
       "      <td>255</td>\n",
       "      <td>3</td>\n",
       "    </tr>\n",
       "  </tbody>\n",
       "</table>\n",
       "</div>"
      ],
      "text/plain": [
       "                                               files age  width  height  \\\n",
       "0                     13_dance-of-thieves-book-1.jpg  13    170     255   \n",
       "1                        11_ways-to-live-forever.jpg  11    170     255   \n",
       "2                 13_this-time-will-be-different.jpg  13    170     255   \n",
       "3  10_the-care-and-keeping-of-you-2-the-body-book...  10    170     255   \n",
       "4                             8_moonpenny-island.jpg   8    170     255   \n",
       "\n",
       "   channels  \n",
       "0         3  \n",
       "1         3  \n",
       "2         3  \n",
       "3         3  \n",
       "4         3  "
      ]
     },
     "execution_count": 14,
     "metadata": {},
     "output_type": "execute_result"
    }
   ],
   "source": [
    "df.head()"
   ]
  },
  {
   "cell_type": "markdown",
   "metadata": {},
   "source": [
    "## Summary\n",
    "\n",
    " - :ballot_box_with_check: numeric data \n",
    " - :ballot_box_with_check: categorical data\n",
    " - :black_square_button: images (book covers)\n",
    "\n",
    "Two down; one to go! \n",
    "\n",
    "Going forward, my key points to remember are: \n",
    "\n",
    "### What type of categorical data do I have?\n",
    "There is a huge difference between ordered (i.e. \"bad\", \"good\", \"great\") and truly nominal data that has no order/ranking like different genres; just because ***I*** prefer science fiction to fantasy, it doesn't mean it actually ***is*** superior. \n",
    "\n",
    "### Are missing values really missing? \n",
    "Several of the features had missing values which were, in fact, not truly missing; for example, the `award` and `awards` features were mostly blank for a very good reason: the book didn't win one of the four awards recognized by Common Sense Media. \n",
    "\n",
    "In conclusion, both of the points above can be summarized simply by as \"be sure to get to know your data.\"    \n",
    "\n",
    "Happy coding!"
   ]
  },
  {
   "cell_type": "markdown",
   "metadata": {},
   "source": [
    "#### Footnotes\n",
    "{{ 'Adapted from [_Engineering Statistics Handbook_](https://www.itl.nist.gov/div898/handbook/eda/section1/eda11.htm)' | fndetail: 1 }}    \n",
    "{{ 'Be sure to check out this excellent [post](https://beta.deepnote.com/article/sidetable-pandas-methods-you-didnt-know-you-needed) by Jeff Hale for more examples on how to use this package' | fndetail: 2 }}  \n",
    "{{ 'See this post on [Smarter Ways to Encode Categorical Data](https://towardsdatascience.com/smarter-ways-to-encode-categorical-data-for-machine-learning-part-1-of-3-6dca2f71b159)' | fndetail: 3 }}    \n",
    "{{ 'Big *Thank You* to [Chaim Gluck](https://medium.com/@chaimgluck1/working-with-pandas-fixing-messy-column-names-42a54a6659cd) for providing this tip' | fndetail: 4 }}"
   ]
  },
  {
   "cell_type": "code",
   "execution_count": null,
   "metadata": {},
   "outputs": [],
   "source": []
  }
 ],
 "metadata": {
  "kernelspec": {
   "display_name": "atoz",
   "language": "python",
   "name": "atoz"
  },
  "language_info": {
   "codemirror_mode": {
    "name": "ipython",
    "version": 3
   },
   "file_extension": ".py",
   "mimetype": "text/x-python",
   "name": "python",
   "nbconvert_exporter": "python",
   "pygments_lexer": "ipython3",
   "version": "3.6.10"
  },
  "varInspector": {
   "cols": {
    "lenName": 16,
    "lenType": 16,
    "lenVar": 40
   },
   "kernels_config": {
    "python": {
     "delete_cmd_postfix": "",
     "delete_cmd_prefix": "del ",
     "library": "var_list.py",
     "varRefreshCmd": "print(var_dic_list())"
    },
    "r": {
     "delete_cmd_postfix": ") ",
     "delete_cmd_prefix": "rm(",
     "library": "var_list.r",
     "varRefreshCmd": "cat(var_dic_list()) "
    }
   },
   "types_to_exclude": [
    "module",
    "function",
    "builtin_function_or_method",
    "instance",
    "_Feature"
   ],
   "window_display": false
  }
 },
 "nbformat": 4,
 "nbformat_minor": 4
}
