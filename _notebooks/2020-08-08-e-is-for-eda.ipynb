{
 "cells": [
  {
   "cell_type": "markdown",
   "metadata": {},
   "source": [
    "# \"E is for Exploratory Data Analysis: Images\"\n",
    "> What is Exploratory Data Analysis (EDA), why is it done, and how do we do it in Python?\n",
    "\n",
    "- toc: false \n",
    "- badges: True\n",
    "- comments: true\n",
    "- categories: []\n",
    "- hide: True\n",
    "- image: images/images/e-is-for-eda-images/pexels-ready-made-3847646.jpg"
   ]
  },
  {
   "cell_type": "markdown",
   "metadata": {},
   "source": [
    "While my previous posts outlined some methods for conducting [EDA for numeric data](https://educatorsrlearners.github.io/an-a-z-of-machine-learning/e/2020/06/15/e-is-for-eda.html) as well as [categorical data](https://educatorsrlearners.github.io/an-a-z-of-machine-learning/e/2020/07/06/e-is-for-eda.html), this post focuses on EDA for images. \n",
    "\n",
    "## _What is **Exploratory Data Analysis (EDA)**?_\n",
    "Again, since [all learning is repetition](https://papers.ssrn.com/sol3/papers.cfm?abstract_id=224340), EDA is a process by which we 'get to know' our data by conducting basic descriptive statistics and visualizations.\n",
    "\n",
    "## _Why is it done?_\n",
    "Two main reasons: \n",
    "- identify patterns\n",
    "- test assumptions  \n",
    "\n",
    "## _How do we do it in Python?_\n",
    "As always, I'll follow the steps outlined in [_Hands-on Machine Learning with Scikit-Learn, Keras & TensorFlow_](https://github.com/ageron/handson-ml/blob/master/ml-project-checklist.md)\n",
    "\n",
    "### Step 1: Frame the Problem\n",
    "\"Is it possible to determine the minimum age a reader should be for a given book based solely on the cover?\"\n",
    "\n",
    "### Step 2: Get the Data\n",
    "As mentioned in my previous [posts](https://educatorsrlearners.github.io/an-a-z-of-machine-learning/e/2020/06/15/e-is-for-eda.html), I sourced labeled data from [Common Sense Media's Book Reviews](https://www.commonsensemedia.org/book-reviews) by scraping and [saving](https://github.com/educatorsRlearners/book-maturity/blob/master/00_get_search_pages.ipynb) the target pages using `BeautifulSoup` \n",
    "\n",
    "![](../images/e-is-for-eda/csm2.png \"Credit: https://www.commonsensemedia.org/book-reviews\")  \n",
    "\n",
    "and then extracted and [saved](https://github.com/educatorsRlearners/book-maturity/blob/master/15_get_covers.ipynb) the book covers into a separate folder.\n",
    "\n",
    "In the end, I was able to use over 5000 covers for training and testing purposes, but today we'll only work with a sample of the covers which can be downloaded from [here](https://github.com/educatorsRlearners/an-a-z-of-machine-learning/tree/master/data/covers). \n",
    "\n",
    "### Step 3: Explore the Data to Gain Insights (i.e. EDA)\n",
    "As always, import the essential libraries, then load the data. "
   ]
  },
  {
   "cell_type": "code",
   "execution_count": 1,
   "metadata": {},
   "outputs": [],
   "source": [
    "#hide\n",
    "import warnings; warnings.simplefilter('ignore')"
   ]
  },
  {
   "cell_type": "code",
   "execution_count": 2,
   "metadata": {},
   "outputs": [],
   "source": []
  },
  {
   "cell_type": "markdown",
   "metadata": {},
   "source": [
    "## Summary\n",
    "\n",
    " - :ballot_box_with_check: numeric data \n",
    " - :ballot_box_with_check: categorical data\n",
    " - :black_square_button: images (book covers)\n",
    "\n",
    "Two down; one to go! \n",
    "\n",
    "Going forward, my key points to remember are: \n",
    "\n",
    "### What type of categorical data do I have?\n",
    "There is a huge difference between ordered (i.e. \"bad\", \"good\", \"great\") and truly nominal data that has no order/ranking like different genres; just because ***I*** prefer science fiction to fantasy, it doesn't mean it actually ***is*** superior. \n",
    "\n",
    "### Are missing values really missing? \n",
    "Several of the features had missing values which were, in fact, not truly missing; for example, the `award` and `awards` features were mostly blank for a very good reason: the book didn't win one of the four awards recognized by Common Sense Media. \n",
    "\n",
    "In conclusion, both of the points above can be summarized simply by as \"be sure to get to know your data.\"    \n",
    "\n",
    "Happy coding!"
   ]
  },
  {
   "cell_type": "markdown",
   "metadata": {},
   "source": [
    "#### Footnotes\n",
    "{{ 'Adapted from [_Engineering Statistics Handbook_](https://www.itl.nist.gov/div898/handbook/eda/section1/eda11.htm)' | fndetail: 1 }}    \n",
    "{{ 'Be sure to check out this excellent [post](https://beta.deepnote.com/article/sidetable-pandas-methods-you-didnt-know-you-needed) by Jeff Hale for more examples on how to use this package' | fndetail: 2 }}  \n",
    "{{ 'See this post on [Smarter Ways to Encode Categorical Data](https://towardsdatascience.com/smarter-ways-to-encode-categorical-data-for-machine-learning-part-1-of-3-6dca2f71b159)' | fndetail: 3 }}    \n",
    "{{ 'Big *Thank You* to [Chaim Gluck](https://medium.com/@chaimgluck1/working-with-pandas-fixing-messy-column-names-42a54a6659cd) for providing this tip' | fndetail: 4 }}"
   ]
  },
  {
   "cell_type": "code",
   "execution_count": null,
   "metadata": {},
   "outputs": [],
   "source": []
  }
 ],
 "metadata": {
  "kernelspec": {
   "display_name": "atoz",
   "language": "python",
   "name": "atoz"
  },
  "language_info": {
   "codemirror_mode": {
    "name": "ipython",
    "version": 3
   },
   "file_extension": ".py",
   "mimetype": "text/x-python",
   "name": "python",
   "nbconvert_exporter": "python",
   "pygments_lexer": "ipython3",
   "version": "3.6.10"
  },
  "varInspector": {
   "cols": {
    "lenName": 16,
    "lenType": 16,
    "lenVar": 40
   },
   "kernels_config": {
    "python": {
     "delete_cmd_postfix": "",
     "delete_cmd_prefix": "del ",
     "library": "var_list.py",
     "varRefreshCmd": "print(var_dic_list())"
    },
    "r": {
     "delete_cmd_postfix": ") ",
     "delete_cmd_prefix": "rm(",
     "library": "var_list.r",
     "varRefreshCmd": "cat(var_dic_list()) "
    }
   },
   "types_to_exclude": [
    "module",
    "function",
    "builtin_function_or_method",
    "instance",
    "_Feature"
   ],
   "window_display": false
  }
 },
 "nbformat": 4,
 "nbformat_minor": 4
}
