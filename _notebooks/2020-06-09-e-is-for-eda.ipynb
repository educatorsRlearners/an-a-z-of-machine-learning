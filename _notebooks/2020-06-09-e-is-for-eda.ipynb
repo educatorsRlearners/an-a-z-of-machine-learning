{
 "cells": [
  {
   "cell_type": "markdown",
   "metadata": {},
   "source": [
    "# E is for Exploratory Data Analysis\n",
    "> What is Exploratory Data Analysis (EDA), why is it done, and how do we do it in Python?\n",
    "\n",
    "- toc: false \n",
    "- badges: True\n",
    "- comments: true\n",
    "- categories: []\n",
    "- sticky_rank: 4\n",
    "- hide: True"
   ]
  },
  {
   "cell_type": "markdown",
   "metadata": {},
   "source": [
    "## _What is **Exploratory Data Analysis(EDA)**?_\n",
    "EDA is the process of getting to know our data primarily through simple visualizations before fitting a model. As Wickham and Grolemund state, EDA is more an attitude than a scripted list of steps which must be carried out{% fn 1 %}.  \n",
    "## _Why is it done?_\n",
    "Two main reasons: \n",
    "\n",
    "1. If we collected the data ourselves to solve a problem, we need to determine whether our data is sufficient for solving that problem.  \n",
    "\n",
    "2. If we didn't collect the data ourselves, we need to have a basic understanding of the type, quantity, quality, and possible relationships between the features in our data.\n",
    "\n",
    "## _How do we do it in Python?_\n",
    "\n",
    "While I could use a toy data set, like in my [last post](https://educatorsrlearners.github.io/an-a-z-of-machine-learning/algorithm/2020/05/26/d-is-for-decision-tree.html) but after seeing comments like this \n",
    "\n",
    "> twitter: https://twitter.com/drob/status/1021233822392881152\n",
    "\n",
    "\n",
    "I'm feeling inspired to use my own data :grin:\n",
    "\n",
    "As always, I'll follow the steps outlined in [_Hands-on Machine Learning with Scikit-Learn, Keras & TensorFlow_](https://github.com/ageron/handson-ml/blob/master/ml-project-checklist.md)\n",
    "\n",
    "### Step 1: Frame the Problem\n",
    "\"Given a set of features, can we determine how old someone needs to be to read a book?\" \n",
    "\n",
    "### Step 2: Get the Data\n",
    "To answer the question above, I sourced labeled data by scraping [Common Sense Media's Book Reviews](https://www.commonsensemedia.org/book-reviews) using `BeautifulSoup` and then wrote the data to a csv.{% fn 1 %} \n",
    "\n",
    "![](../images/e-is-for-eda/csm2.png \"Credit: https://www.commonsensemedia.org/book-reviews\")  \n",
    "\n",
    "\n",
    "### Step 3: Explore the Data to Gain Insights (i.e. EDA)\n",
    "As always, import the basics, then load the data. "
   ]
  },
  {
   "cell_type": "code",
   "execution_count": 2,
   "metadata": {},
   "outputs": [],
   "source": [
    "import pandas as pd\n",
    "\n",
    "url = 'https://raw.githubusercontent.com/educatorsRlearners/book-maturity/master/csv/book_info_complete.csv'\n",
    "\n",
    "df = pd.read_csv(url)"
   ]
  },
  {
   "cell_type": "markdown",
   "metadata": {},
   "source": [
    "Time to start asking and answering some basic questions: \n",
    "\n",
    "- How much data do we have? "
   ]
  },
  {
   "cell_type": "code",
   "execution_count": 3,
   "metadata": {},
   "outputs": [
    {
     "data": {
      "text/plain": [
       "(5816, 24)"
      ]
     },
     "execution_count": 3,
     "metadata": {},
     "output_type": "execute_result"
    }
   ],
   "source": [
    "df.shape"
   ]
  },
  {
   "cell_type": "markdown",
   "metadata": {},
   "source": [
    "OK, so we have 23 features and one target as well as 5,816 observations.\n",
    "\n",
    "*Why do we have fewer than in the screenshot above?*\n",
    "\n",
    "Because Common Sense Media is constantly adding new reviews to their website, meaning they've added nearly 100 books to their site since I completed my project at the end of March 2020. \n",
    "\n",
    "- What type of data do we have? "
   ]
  },
  {
   "cell_type": "code",
   "execution_count": 4,
   "metadata": {},
   "outputs": [
    {
     "name": "stdout",
     "output_type": "stream",
     "text": [
      "<class 'pandas.core.frame.DataFrame'>\n",
      "RangeIndex: 5816 entries, 0 to 5815\n",
      "Data columns (total 24 columns):\n",
      " #   Column                          Non-Null Count  Dtype  \n",
      "---  ------                          --------------  -----  \n",
      " 0   title                           5816 non-null   object \n",
      " 1   description                     5816 non-null   object \n",
      " 2   plot                            5816 non-null   object \n",
      " 3   csm_review                      5816 non-null   object \n",
      " 4   need_to_know                    5816 non-null   object \n",
      " 5   par_rating                      2495 non-null   float64\n",
      " 6   kids_rating                     3026 non-null   float64\n",
      " 7   csm_rating                      5816 non-null   int64  \n",
      " 8   Author                          5468 non-null   object \n",
      " 9   Genre                           5816 non-null   object \n",
      " 10  Topics                          3868 non-null   object \n",
      " 11  Book type                       5816 non-null   object \n",
      " 12  Publisher                       5675 non-null   object \n",
      " 13  Publication date                5816 non-null   object \n",
      " 14  Publisher's recommended age(s)  4647 non-null   object \n",
      " 15  Number of pages                 5767 non-null   float64\n",
      " 16  Available on                    3534 non-null   object \n",
      " 17  Last updated                    5816 non-null   object \n",
      " 18  Illustrator                     2490 non-null   object \n",
      " 19  Authors                         348 non-null    object \n",
      " 20  Awards                          68 non-null     object \n",
      " 21  Publishers                      33 non-null     object \n",
      " 22  Award                           415 non-null    object \n",
      " 23  Illustrators                    61 non-null     object \n",
      "dtypes: float64(3), int64(1), object(20)\n",
      "memory usage: 1.1+ MB\n"
     ]
    }
   ],
   "source": [
    "df.info()"
   ]
  },
  {
   "cell_type": "markdown",
   "metadata": {},
   "source": [
    "Looks like a mix of strings and floats. \n",
    "\n",
    "*Lets look at a sample*\n",
    "\n",
    "Good idea. "
   ]
  },
  {
   "cell_type": "code",
   "execution_count": 5,
   "metadata": {},
   "outputs": [
    {
     "data": {
      "text/html": [
       "<div>\n",
       "<style scoped>\n",
       "    .dataframe tbody tr th:only-of-type {\n",
       "        vertical-align: middle;\n",
       "    }\n",
       "\n",
       "    .dataframe tbody tr th {\n",
       "        vertical-align: top;\n",
       "    }\n",
       "\n",
       "    .dataframe thead th {\n",
       "        text-align: right;\n",
       "    }\n",
       "</style>\n",
       "<table border=\"1\" class=\"dataframe\">\n",
       "  <thead>\n",
       "    <tr style=\"text-align: right;\">\n",
       "      <th></th>\n",
       "      <th>0</th>\n",
       "      <th>1</th>\n",
       "      <th>2</th>\n",
       "      <th>3</th>\n",
       "      <th>4</th>\n",
       "    </tr>\n",
       "  </thead>\n",
       "  <tbody>\n",
       "    <tr>\n",
       "      <th>title</th>\n",
       "      <td>The Third Twin</td>\n",
       "      <td>Small Damages</td>\n",
       "      <td>The School for Good and Evil, Book 1</td>\n",
       "      <td>Agent of Chaos: The X-Files Origins, Book 1</td>\n",
       "      <td>Crossing Ebenezer Creek</td>\n",
       "    </tr>\n",
       "    <tr>\n",
       "      <th>description</th>\n",
       "      <td>Gripping thriller skimps on character developm...</td>\n",
       "      <td>Luminous story of pregnant teen's summer in Sp...</td>\n",
       "      <td>Fractured fairy tale has plenty of twists for ...</td>\n",
       "      <td>Series pictures Mulder as teen, captures essen...</td>\n",
       "      <td>Heartbreaking novel follows freed slaves on Sh...</td>\n",
       "    </tr>\n",
       "    <tr>\n",
       "      <th>plot</th>\n",
       "      <td>Twins Ava and Alexa \"Lexi\" Rios live in an aff...</td>\n",
       "      <td>It's the summer of 1996, which 18-year-old Ken...</td>\n",
       "      <td>When best friends Sophie and Agatha are stolen...</td>\n",
       "      <td>Set in 1979, AGENT OF CHAOS follows a 17-year-...</td>\n",
       "      <td>CROSSING EBENEZER CREEK is a YA novel from awa...</td>\n",
       "    </tr>\n",
       "    <tr>\n",
       "      <th>csm_review</th>\n",
       "      <td>THE THIRD TWIN has an interesting, compelling ...</td>\n",
       "      <td>This could well have been a minefield of clich...</td>\n",
       "      <td>The School for Good and Evil is no run-of-the-...</td>\n",
       "      <td>Popular TV characters don't always make a smoo...</td>\n",
       "      <td>Beautifully written and poetically rendered, t...</td>\n",
       "    </tr>\n",
       "    <tr>\n",
       "      <th>need_to_know</th>\n",
       "      <td>Parents need to know that The Third Twin is a ...</td>\n",
       "      <td>Parents need to know that Small Damages is nar...</td>\n",
       "      <td>Parents need to know that The School for Good ...</td>\n",
       "      <td>Parents need to know that Agent of Chaos: The ...</td>\n",
       "      <td>Parents need to know that Crossing Ebenezer Cr...</td>\n",
       "    </tr>\n",
       "    <tr>\n",
       "      <th>par_rating</th>\n",
       "      <td>17</td>\n",
       "      <td>NaN</td>\n",
       "      <td>11</td>\n",
       "      <td>NaN</td>\n",
       "      <td>NaN</td>\n",
       "    </tr>\n",
       "    <tr>\n",
       "      <th>kids_rating</th>\n",
       "      <td>14</td>\n",
       "      <td>14</td>\n",
       "      <td>11</td>\n",
       "      <td>NaN</td>\n",
       "      <td>NaN</td>\n",
       "    </tr>\n",
       "    <tr>\n",
       "      <th>csm_rating</th>\n",
       "      <td>12</td>\n",
       "      <td>14</td>\n",
       "      <td>8</td>\n",
       "      <td>13</td>\n",
       "      <td>13</td>\n",
       "    </tr>\n",
       "    <tr>\n",
       "      <th>Author</th>\n",
       "      <td>CJ Omololu</td>\n",
       "      <td>Beth Kephart</td>\n",
       "      <td>Soman Chainani</td>\n",
       "      <td>Kami Garcia</td>\n",
       "      <td>Tonya Bolden</td>\n",
       "    </tr>\n",
       "    <tr>\n",
       "      <th>Genre</th>\n",
       "      <td>Mystery</td>\n",
       "      <td>Coming of Age</td>\n",
       "      <td>Fairy Tale</td>\n",
       "      <td>Science Fiction</td>\n",
       "      <td>Historical Fiction</td>\n",
       "    </tr>\n",
       "    <tr>\n",
       "      <th>Topics</th>\n",
       "      <td>Adventures, Brothers and Sisters, Friendship, ...</td>\n",
       "      <td>Friendship, History, Horses and Farm Animals</td>\n",
       "      <td>Magic and Fantasy, Princesses, Fairies, Mermai...</td>\n",
       "      <td>Magic and Fantasy, Adventures, Great Boy Role ...</td>\n",
       "      <td>Friendship, History</td>\n",
       "    </tr>\n",
       "    <tr>\n",
       "      <th>Book type</th>\n",
       "      <td>Fiction</td>\n",
       "      <td>Fiction</td>\n",
       "      <td>Fiction</td>\n",
       "      <td>Fiction</td>\n",
       "      <td>Fiction</td>\n",
       "    </tr>\n",
       "    <tr>\n",
       "      <th>Publisher</th>\n",
       "      <td>Delacorte Press</td>\n",
       "      <td>Philomel</td>\n",
       "      <td>HarperCollins Children's Books</td>\n",
       "      <td>Imprint</td>\n",
       "      <td>Bloomsbury Children's Books</td>\n",
       "    </tr>\n",
       "    <tr>\n",
       "      <th>Publication date</th>\n",
       "      <td>February 24, 2015</td>\n",
       "      <td>July 19, 2012</td>\n",
       "      <td>May 14, 2013</td>\n",
       "      <td>January 3, 2017</td>\n",
       "      <td>May 30, 2017</td>\n",
       "    </tr>\n",
       "    <tr>\n",
       "      <th>Publisher's recommended age(s)</th>\n",
       "      <td>12 - 18</td>\n",
       "      <td>14 - 17</td>\n",
       "      <td>8 - 17</td>\n",
       "      <td>14 - 18</td>\n",
       "      <td>NaN</td>\n",
       "    </tr>\n",
       "    <tr>\n",
       "      <th>Number of pages</th>\n",
       "      <td>336</td>\n",
       "      <td>304</td>\n",
       "      <td>496</td>\n",
       "      <td>320</td>\n",
       "      <td>240</td>\n",
       "    </tr>\n",
       "    <tr>\n",
       "      <th>Available on</th>\n",
       "      <td>Nook, Hardback, iBooks, Kindle</td>\n",
       "      <td>Nook, Hardback, iBooks, Kindle</td>\n",
       "      <td>Nook, Audiobook (unabridged), Hardback, iBooks...</td>\n",
       "      <td>Nook, Audiobook (abridged), Hardback, iBooks, ...</td>\n",
       "      <td>Nook, Audiobook (unabridged), Hardback, Kindle</td>\n",
       "    </tr>\n",
       "    <tr>\n",
       "      <th>Last updated</th>\n",
       "      <td>June 19, 2019</td>\n",
       "      <td>May 06, 2019</td>\n",
       "      <td>October 18, 2017</td>\n",
       "      <td>June 19, 2019</td>\n",
       "      <td>January 18, 2019</td>\n",
       "    </tr>\n",
       "    <tr>\n",
       "      <th>Illustrator</th>\n",
       "      <td>NaN</td>\n",
       "      <td>NaN</td>\n",
       "      <td>Iacopo Bruno</td>\n",
       "      <td>NaN</td>\n",
       "      <td>NaN</td>\n",
       "    </tr>\n",
       "    <tr>\n",
       "      <th>Authors</th>\n",
       "      <td>NaN</td>\n",
       "      <td>NaN</td>\n",
       "      <td>NaN</td>\n",
       "      <td>NaN</td>\n",
       "      <td>NaN</td>\n",
       "    </tr>\n",
       "    <tr>\n",
       "      <th>Awards</th>\n",
       "      <td>NaN</td>\n",
       "      <td>NaN</td>\n",
       "      <td>NaN</td>\n",
       "      <td>NaN</td>\n",
       "      <td>NaN</td>\n",
       "    </tr>\n",
       "    <tr>\n",
       "      <th>Publishers</th>\n",
       "      <td>NaN</td>\n",
       "      <td>NaN</td>\n",
       "      <td>NaN</td>\n",
       "      <td>NaN</td>\n",
       "      <td>NaN</td>\n",
       "    </tr>\n",
       "    <tr>\n",
       "      <th>Award</th>\n",
       "      <td>NaN</td>\n",
       "      <td>NaN</td>\n",
       "      <td>NaN</td>\n",
       "      <td>NaN</td>\n",
       "      <td>NaN</td>\n",
       "    </tr>\n",
       "    <tr>\n",
       "      <th>Illustrators</th>\n",
       "      <td>NaN</td>\n",
       "      <td>NaN</td>\n",
       "      <td>NaN</td>\n",
       "      <td>NaN</td>\n",
       "      <td>NaN</td>\n",
       "    </tr>\n",
       "  </tbody>\n",
       "</table>\n",
       "</div>"
      ],
      "text/plain": [
       "                                                                                0  \\\n",
       "title                                                              The Third Twin   \n",
       "description                     Gripping thriller skimps on character developm...   \n",
       "plot                            Twins Ava and Alexa \"Lexi\" Rios live in an aff...   \n",
       "csm_review                      THE THIRD TWIN has an interesting, compelling ...   \n",
       "need_to_know                    Parents need to know that The Third Twin is a ...   \n",
       "par_rating                                                                     17   \n",
       "kids_rating                                                                    14   \n",
       "csm_rating                                                                     12   \n",
       "Author                                                                 CJ Omololu   \n",
       "Genre                                                                     Mystery   \n",
       "Topics                          Adventures, Brothers and Sisters, Friendship, ...   \n",
       "Book type                                                                 Fiction   \n",
       "Publisher                                                         Delacorte Press   \n",
       "Publication date                                                February 24, 2015   \n",
       "Publisher's recommended age(s)                                            12 - 18   \n",
       "Number of pages                                                               336   \n",
       "Available on                                       Nook, Hardback, iBooks, Kindle   \n",
       "Last updated                                                        June 19, 2019   \n",
       "Illustrator                                                                   NaN   \n",
       "Authors                                                                       NaN   \n",
       "Awards                                                                        NaN   \n",
       "Publishers                                                                    NaN   \n",
       "Award                                                                         NaN   \n",
       "Illustrators                                                                  NaN   \n",
       "\n",
       "                                                                                1  \\\n",
       "title                                                               Small Damages   \n",
       "description                     Luminous story of pregnant teen's summer in Sp...   \n",
       "plot                            It's the summer of 1996, which 18-year-old Ken...   \n",
       "csm_review                      This could well have been a minefield of clich...   \n",
       "need_to_know                    Parents need to know that Small Damages is nar...   \n",
       "par_rating                                                                    NaN   \n",
       "kids_rating                                                                    14   \n",
       "csm_rating                                                                     14   \n",
       "Author                                                               Beth Kephart   \n",
       "Genre                                                               Coming of Age   \n",
       "Topics                               Friendship, History, Horses and Farm Animals   \n",
       "Book type                                                                 Fiction   \n",
       "Publisher                                                                Philomel   \n",
       "Publication date                                                    July 19, 2012   \n",
       "Publisher's recommended age(s)                                            14 - 17   \n",
       "Number of pages                                                               304   \n",
       "Available on                                       Nook, Hardback, iBooks, Kindle   \n",
       "Last updated                                                         May 06, 2019   \n",
       "Illustrator                                                                   NaN   \n",
       "Authors                                                                       NaN   \n",
       "Awards                                                                        NaN   \n",
       "Publishers                                                                    NaN   \n",
       "Award                                                                         NaN   \n",
       "Illustrators                                                                  NaN   \n",
       "\n",
       "                                                                                2  \\\n",
       "title                                        The School for Good and Evil, Book 1   \n",
       "description                     Fractured fairy tale has plenty of twists for ...   \n",
       "plot                            When best friends Sophie and Agatha are stolen...   \n",
       "csm_review                      The School for Good and Evil is no run-of-the-...   \n",
       "need_to_know                    Parents need to know that The School for Good ...   \n",
       "par_rating                                                                     11   \n",
       "kids_rating                                                                    11   \n",
       "csm_rating                                                                      8   \n",
       "Author                                                             Soman Chainani   \n",
       "Genre                                                                  Fairy Tale   \n",
       "Topics                          Magic and Fantasy, Princesses, Fairies, Mermai...   \n",
       "Book type                                                                 Fiction   \n",
       "Publisher                                          HarperCollins Children's Books   \n",
       "Publication date                                                     May 14, 2013   \n",
       "Publisher's recommended age(s)                                             8 - 17   \n",
       "Number of pages                                                               496   \n",
       "Available on                    Nook, Audiobook (unabridged), Hardback, iBooks...   \n",
       "Last updated                                                     October 18, 2017   \n",
       "Illustrator                                                          Iacopo Bruno   \n",
       "Authors                                                                       NaN   \n",
       "Awards                                                                        NaN   \n",
       "Publishers                                                                    NaN   \n",
       "Award                                                                         NaN   \n",
       "Illustrators                                                                  NaN   \n",
       "\n",
       "                                                                                3  \\\n",
       "title                                 Agent of Chaos: The X-Files Origins, Book 1   \n",
       "description                     Series pictures Mulder as teen, captures essen...   \n",
       "plot                            Set in 1979, AGENT OF CHAOS follows a 17-year-...   \n",
       "csm_review                      Popular TV characters don't always make a smoo...   \n",
       "need_to_know                    Parents need to know that Agent of Chaos: The ...   \n",
       "par_rating                                                                    NaN   \n",
       "kids_rating                                                                   NaN   \n",
       "csm_rating                                                                     13   \n",
       "Author                                                                Kami Garcia   \n",
       "Genre                                                             Science Fiction   \n",
       "Topics                          Magic and Fantasy, Adventures, Great Boy Role ...   \n",
       "Book type                                                                 Fiction   \n",
       "Publisher                                                                 Imprint   \n",
       "Publication date                                                  January 3, 2017   \n",
       "Publisher's recommended age(s)                                            14 - 18   \n",
       "Number of pages                                                               320   \n",
       "Available on                    Nook, Audiobook (abridged), Hardback, iBooks, ...   \n",
       "Last updated                                                        June 19, 2019   \n",
       "Illustrator                                                                   NaN   \n",
       "Authors                                                                       NaN   \n",
       "Awards                                                                        NaN   \n",
       "Publishers                                                                    NaN   \n",
       "Award                                                                         NaN   \n",
       "Illustrators                                                                  NaN   \n",
       "\n",
       "                                                                                4  \n",
       "title                                                     Crossing Ebenezer Creek  \n",
       "description                     Heartbreaking novel follows freed slaves on Sh...  \n",
       "plot                            CROSSING EBENEZER CREEK is a YA novel from awa...  \n",
       "csm_review                      Beautifully written and poetically rendered, t...  \n",
       "need_to_know                    Parents need to know that Crossing Ebenezer Cr...  \n",
       "par_rating                                                                    NaN  \n",
       "kids_rating                                                                   NaN  \n",
       "csm_rating                                                                     13  \n",
       "Author                                                               Tonya Bolden  \n",
       "Genre                                                          Historical Fiction  \n",
       "Topics                                                        Friendship, History  \n",
       "Book type                                                                 Fiction  \n",
       "Publisher                                             Bloomsbury Children's Books  \n",
       "Publication date                                                     May 30, 2017  \n",
       "Publisher's recommended age(s)                                                NaN  \n",
       "Number of pages                                                               240  \n",
       "Available on                       Nook, Audiobook (unabridged), Hardback, Kindle  \n",
       "Last updated                                                     January 18, 2019  \n",
       "Illustrator                                                                   NaN  \n",
       "Authors                                                                       NaN  \n",
       "Awards                                                                        NaN  \n",
       "Publishers                                                                    NaN  \n",
       "Award                                                                         NaN  \n",
       "Illustrators                                                                  NaN  "
      ]
     },
     "execution_count": 5,
     "metadata": {},
     "output_type": "execute_result"
    }
   ],
   "source": [
    "df.head().T"
   ]
  },
  {
   "cell_type": "code",
   "execution_count": 5,
   "metadata": {},
   "outputs": [
    {
     "data": {
      "text/plain": [
       "5816"
      ]
     },
     "execution_count": 5,
     "metadata": {},
     "output_type": "execute_result"
    }
   ],
   "source": [
    "#Author + Authors\n",
    "5468 + 348"
   ]
  },
  {
   "cell_type": "code",
   "execution_count": 6,
   "metadata": {},
   "outputs": [
    {
     "data": {
      "text/plain": [
       "5708"
      ]
     },
     "execution_count": 6,
     "metadata": {},
     "output_type": "execute_result"
    }
   ],
   "source": [
    "#Publisher + Publisher\n",
    "5675 + 33"
   ]
  },
  {
   "cell_type": "code",
   "execution_count": 7,
   "metadata": {},
   "outputs": [],
   "source": [
    "numeric = df.select_dtypes(include='number')\n",
    "string = df.select_dtypes(exclude='number')"
   ]
  },
  {
   "cell_type": "code",
   "execution_count": 8,
   "metadata": {},
   "outputs": [
    {
     "data": {
      "text/html": [
       "<div>\n",
       "<style scoped>\n",
       "    .dataframe tbody tr th:only-of-type {\n",
       "        vertical-align: middle;\n",
       "    }\n",
       "\n",
       "    .dataframe tbody tr th {\n",
       "        vertical-align: top;\n",
       "    }\n",
       "\n",
       "    .dataframe thead th {\n",
       "        text-align: right;\n",
       "    }\n",
       "</style>\n",
       "<table border=\"1\" class=\"dataframe\">\n",
       "  <thead>\n",
       "    <tr style=\"text-align: right;\">\n",
       "      <th></th>\n",
       "      <th>par_rating</th>\n",
       "      <th>kids_rating</th>\n",
       "      <th>csm_rating</th>\n",
       "      <th>Number of pages</th>\n",
       "    </tr>\n",
       "  </thead>\n",
       "  <tbody>\n",
       "    <tr>\n",
       "      <th>0</th>\n",
       "      <td>17.0</td>\n",
       "      <td>14.0</td>\n",
       "      <td>12</td>\n",
       "      <td>336.0</td>\n",
       "    </tr>\n",
       "    <tr>\n",
       "      <th>1</th>\n",
       "      <td>NaN</td>\n",
       "      <td>14.0</td>\n",
       "      <td>14</td>\n",
       "      <td>304.0</td>\n",
       "    </tr>\n",
       "    <tr>\n",
       "      <th>2</th>\n",
       "      <td>11.0</td>\n",
       "      <td>11.0</td>\n",
       "      <td>8</td>\n",
       "      <td>496.0</td>\n",
       "    </tr>\n",
       "    <tr>\n",
       "      <th>3</th>\n",
       "      <td>NaN</td>\n",
       "      <td>NaN</td>\n",
       "      <td>13</td>\n",
       "      <td>320.0</td>\n",
       "    </tr>\n",
       "    <tr>\n",
       "      <th>4</th>\n",
       "      <td>NaN</td>\n",
       "      <td>NaN</td>\n",
       "      <td>13</td>\n",
       "      <td>240.0</td>\n",
       "    </tr>\n",
       "  </tbody>\n",
       "</table>\n",
       "</div>"
      ],
      "text/plain": [
       "   par_rating  kids_rating  csm_rating  Number of pages\n",
       "0        17.0         14.0          12            336.0\n",
       "1         NaN         14.0          14            304.0\n",
       "2        11.0         11.0           8            496.0\n",
       "3         NaN          NaN          13            320.0\n",
       "4         NaN          NaN          13            240.0"
      ]
     },
     "execution_count": 8,
     "metadata": {},
     "output_type": "execute_result"
    }
   ],
   "source": [
    "numeric.head()"
   ]
  },
  {
   "cell_type": "code",
   "execution_count": 10,
   "metadata": {},
   "outputs": [],
   "source": [
    "import missingno as msno "
   ]
  },
  {
   "cell_type": "code",
   "execution_count": 1,
   "metadata": {},
   "outputs": [
    {
     "ename": "NameError",
     "evalue": "name 'msno' is not defined",
     "output_type": "error",
     "traceback": [
      "\u001b[0;31m---------------------------------------------------------------------------\u001b[0m",
      "\u001b[0;31mNameError\u001b[0m                                 Traceback (most recent call last)",
      "\u001b[0;32m<ipython-input-1-6c18cf8525a4>\u001b[0m in \u001b[0;36m<module>\u001b[0;34m\u001b[0m\n\u001b[0;32m----> 1\u001b[0;31m \u001b[0mmsno\u001b[0m\u001b[0;34m.\u001b[0m\u001b[0mbar\u001b[0m\u001b[0;34m(\u001b[0m\u001b[0mstring\u001b[0m\u001b[0;34m)\u001b[0m\u001b[0;34m;\u001b[0m\u001b[0;34m\u001b[0m\u001b[0;34m\u001b[0m\u001b[0m\n\u001b[0m",
      "\u001b[0;31mNameError\u001b[0m: name 'msno' is not defined"
     ]
    }
   ],
   "source": [
    "msno.bar(string);"
   ]
  },
  {
   "cell_type": "code",
   "execution_count": 12,
   "metadata": {},
   "outputs": [
    {
     "data": {
      "text/plain": [
       "<matplotlib.axes._subplots.AxesSubplot at 0x7f60658024e0>"
      ]
     },
     "execution_count": 12,
     "metadata": {},
     "output_type": "execute_result"
    },
    {
     "data": {
      "image/png": "[encoded data removed]",
      "text/plain": [
       "<Figure size 1800x720 with 2 Axes>"
      ]
     },
     "metadata": {
      "needs_background": "light"
     },
     "output_type": "display_data"
    }
   ],
   "source": [
    "msno.matrix(numeric)"
   ]
  },
  {
   "cell_type": "markdown",
   "metadata": {},
   "source": [
    "## Summary\n",
    "\n"
   ]
  },
  {
   "cell_type": "markdown",
   "metadata": {},
   "source": [
    "### Further Reading\n",
    "\n",
    "\n",
    "### Footnotes\n",
    "{{ ['Chapter 7: Exploratory Data Analysis' in *R for Data Science* by Hadley Wickham  & Garrett Grolemund](https://r4ds.had.co.nz/exploratory-data-analysis.html)\n",
    " | fndetail: 1 }}  \n",
    "{{You can find the code [here](https://github.com/educatorsRlearners/book-maturity/blob/master/00_get_search_pages.ipynb) | fndetail: 2 }}  "
   ]
  },
  {
   "cell_type": "code",
   "execution_count": null,
   "metadata": {},
   "outputs": [],
   "source": []
  }
 ],
 "metadata": {
  "kernelspec": {
   "display_name": "atoz",
   "language": "python",
   "name": "atoz"
  },
  "language_info": {
   "codemirror_mode": {
    "name": "ipython",
    "version": 3
   },
   "file_extension": ".py",
   "mimetype": "text/x-python",
   "name": "python",
   "nbconvert_exporter": "python",
   "pygments_lexer": "ipython3",
   "version": "3.6.10"
  },
  "varInspector": {
   "cols": {
    "lenName": 16,
    "lenType": 16,
    "lenVar": 40
   },
   "kernels_config": {
    "python": {
     "delete_cmd_postfix": "",
     "delete_cmd_prefix": "del ",
     "library": "var_list.py",
     "varRefreshCmd": "print(var_dic_list())"
    },
    "r": {
     "delete_cmd_postfix": ") ",
     "delete_cmd_prefix": "rm(",
     "library": "var_list.r",
     "varRefreshCmd": "cat(var_dic_list()) "
    }
   },
   "types_to_exclude": [
    "module",
    "function",
    "builtin_function_or_method",
    "instance",
    "_Feature"
   ],
   "window_display": false
  }
 },
 "nbformat": 4,
 "nbformat_minor": 4
}
