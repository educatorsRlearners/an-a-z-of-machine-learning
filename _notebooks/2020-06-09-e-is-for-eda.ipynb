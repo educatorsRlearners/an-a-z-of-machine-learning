{
 "cells": [
  {
   "cell_type": "markdown",
   "metadata": {},
   "source": [
    "# E is for Exploratory Data Analysis\n",
    "> What is Exploratory Data Analysis (EDA), why is it done, and how do we do it in Python?\n",
    "\n",
    "- toc: false \n",
    "- badges: True\n",
    "- comments: true\n",
    "- categories: []\n",
    "- sticky_rank: 4\n",
    "- hide: True"
   ]
  },
  {
   "cell_type": "markdown",
   "metadata": {},
   "source": [
    "## _What is **Exploratory Data Analysis(EDA)**?_\n",
    "EDA is the process of getting to know our data. \n",
    "## _Why is it done?_\n",
    "\n",
    "## _How do we do it in Python?_"
   ]
  },
  {
   "cell_type": "markdown",
   "metadata": {},
   "source": [
    "## Summary\n",
    "\n"
   ]
  },
  {
   "cell_type": "markdown",
   "metadata": {},
   "source": [
    "### Further Reading\n",
    "[*Hands-On Machine Learning with Scikit-Learn and TensorFlow*: 'Chapter 6 Decision Trees'](https://www.oreilly.com/library/view/hands-on-machine-learning/9781491962282/)  \n",
    "[DataCamp Decision Tree Classifier Tutorial](https://www.datacamp.com/community/tutorials/decision-tree-classification-python)  \n",
    "[Understanding the Mathematics Behind Decision Trees](https://heartbeat.fritz.ai/understanding-the-mathematics-behind-decision-trees-22d86d55906)  \n",
    "[Visualizing Decision Trees](https://chrisalbon.com/machine_learning/trees_and_forests/visualize_a_decision_tree/)  \n",
    "\n",
    "\n",
    "### Footnotes\n",
    "{{ 'Geron, 2019, Page 177' | fndetail: 1 }}  \n",
    "{{ 'If anyone knows how to set the tree to only split on whole values, please write it in the comments below.' | fndetail: 2 }}  "
   ]
  },
  {
   "cell_type": "code",
   "execution_count": null,
   "metadata": {},
   "outputs": [],
   "source": []
  }
 ],
 "metadata": {
  "kernelspec": {
   "display_name": "atoz",
   "language": "python",
   "name": "atoz"
  },
  "language_info": {
   "codemirror_mode": {
    "name": "ipython",
    "version": 3
   },
   "file_extension": ".py",
   "mimetype": "text/x-python",
   "name": "python",
   "nbconvert_exporter": "python",
   "pygments_lexer": "ipython3",
   "version": "3.6.10"
  },
  "varInspector": {
   "cols": {
    "lenName": 16,
    "lenType": 16,
    "lenVar": 40
   },
   "kernels_config": {
    "python": {
     "delete_cmd_postfix": "",
     "delete_cmd_prefix": "del ",
     "library": "var_list.py",
     "varRefreshCmd": "print(var_dic_list())"
    },
    "r": {
     "delete_cmd_postfix": ") ",
     "delete_cmd_prefix": "rm(",
     "library": "var_list.r",
     "varRefreshCmd": "cat(var_dic_list()) "
    }
   },
   "types_to_exclude": [
    "module",
    "function",
    "builtin_function_or_method",
    "instance",
    "_Feature"
   ],
   "window_display": false
  }
 },
 "nbformat": 4,
 "nbformat_minor": 4
}
