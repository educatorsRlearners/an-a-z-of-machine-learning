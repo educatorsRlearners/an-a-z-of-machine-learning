{
 "cells": [
  {
   "cell_type": "markdown",
   "metadata": {},
   "source": [
    "# D is for Decision Tree\n",
    "> What is classification and why is it used?\n",
    "\n",
    "- toc: false \n",
    "- badges: True\n",
    "- comments: true\n",
    "- categories: [algorithm]\n",
    "- sticky_rank: 4\n",
    "- hide: true"
   ]
  },
  {
   "cell_type": "markdown",
   "metadata": {},
   "source": [
    "## _What is a **Decision Tree**?_\n",
    "**Decision Trees** are a type of algorithm used for either classification or regression tasks.  \n",
    "\n",
    "## *How do they work?*  \n",
    "While the math is [fairly complicated](https://heartbeat.fritz.ai/understanding-the-mathematics-behind-decision-trees-22d86d55906), the concept is incredibly straightforward:  \n",
    "1. start with all observations in one group\n",
    "2. identify a binary question, i.e., (\"*yes/no*\", \"*over/under*\") which will lead to mostly homogeneous groups\n",
    "3. repeat step two until every subgroup homogeneous or some other metric has been achieved\n",
    "\n",
    "## What are the advantages?  \n",
    "**Transparency**: They are considered a [*white/glass box*](https://en.wikipedia.org/wiki/Decision_tree_learning) algorithm because you can see what decisions the algorithm made which leads to,   \n",
    "\n",
    "**Interpretablity**: Again, since you can see which decisions were made, it's easy to comprehend and explain. \n",
    "\n",
    "**Ease**: Data trees **DO NOT** require feature scaling or normalization{% fn 1 %}.  \n",
    "\n",
    "## What are the advantages?  \n",
    "**Overfitting**: Since they try to find the purest groups, they have a tendacy to overfit.  \n",
    "\n",
    "**Non-Linear Data**: Decision trees attempt to distill a group into it's smallest constituent groups through answe\n",
    "\n",
    "\n",
    "\n",
    "\n",
    "\n"
   ]
  },
  {
   "cell_type": "markdown",
   "metadata": {},
   "source": [
    "### Further Reading\n",
    "[Understanding the Mathematics Behind Decision Trees](https://heartbeat.fritz.ai/understanding-the-mathematics-behind-decision-trees-22d86d55906)  \n",
    "[Chapter 6: Decision Trees in *Hands-On Machine Learning with Scikit-Learn and TensorFlow*](https://www.oreilly.com/library/view/hands-on-machine-learning/9781491962282/) \n",
    "\n",
    "\n",
    "### References and Footnotes\n",
    "{{ 'Geron, 2019, Page 177' | fndetail: 1 }}\n"
   ]
  },
  {
   "cell_type": "code",
   "execution_count": null,
   "metadata": {},
   "outputs": [],
   "source": []
  }
 ],
 "metadata": {
  "kernelspec": {
   "display_name": "Python 3",
   "language": "python",
   "name": "python3"
  },
  "language_info": {
   "codemirror_mode": {
    "name": "ipython",
    "version": 3
   },
   "file_extension": ".py",
   "mimetype": "text/x-python",
   "name": "python",
   "nbconvert_exporter": "python",
   "pygments_lexer": "ipython3",
   "version": "3.7.4"
  },
  "varInspector": {
   "cols": {
    "lenName": 16,
    "lenType": 16,
    "lenVar": 40
   },
   "kernels_config": {
    "python": {
     "delete_cmd_postfix": "",
     "delete_cmd_prefix": "del ",
     "library": "var_list.py",
     "varRefreshCmd": "print(var_dic_list())"
    },
    "r": {
     "delete_cmd_postfix": ") ",
     "delete_cmd_prefix": "rm(",
     "library": "var_list.r",
     "varRefreshCmd": "cat(var_dic_list()) "
    }
   },
   "types_to_exclude": [
    "module",
    "function",
    "builtin_function_or_method",
    "instance",
    "_Feature"
   ],
   "window_display": false
  }
 },
 "nbformat": 4,
 "nbformat_minor": 4
}
